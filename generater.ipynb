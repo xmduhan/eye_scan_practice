{
 "cells": [
  {
   "cell_type": "code",
   "execution_count": 1,
   "id": "5fd3a2d5",
   "metadata": {},
   "outputs": [],
   "source": [
    "from docx import Document\n",
    "from docx.shared import Inches\n",
    "from docx.shared import Cm, Pt\n",
    "from docx.enum.text import WD_ALIGN_PARAGRAPH\n",
    "from docx.enum.table import WD_ALIGN_VERTICAL\n",
    "from random import shuffle\n",
    "\n",
    "\n",
    "# document.add_heading('Document Title', 0)"
   ]
  },
  {
   "cell_type": "code",
   "execution_count": 2,
   "id": "b6c2c55a",
   "metadata": {},
   "outputs": [],
   "source": [
    "def get_shuffle_list():\n",
    "    alist = list(range(1, 26))\n",
    "    shuffle(alist)\n",
    "    alist.remove(1)\n",
    "    alist.insert(12, 1)\n",
    "    return alist"
   ]
  },
  {
   "cell_type": "code",
   "execution_count": 3,
   "id": "56dad540",
   "metadata": {},
   "outputs": [],
   "source": [
    "document = Document()"
   ]
  },
  {
   "cell_type": "code",
   "execution_count": 4,
   "id": "b9a10d7b",
   "metadata": {},
   "outputs": [],
   "source": [
    "def add_page(document):   \n",
    "   \n",
    "    p = document.add_paragraph()\n",
    "    run = p.add_run()\n",
    "    for i in range(5):\n",
    "        run.add_break()\n",
    "    \n",
    "    table = document.add_table(5, 5)\n",
    "    table.style = 'TableGrid'    \n",
    "\n",
    "    for row in table.rows:\n",
    "        row.height = Cm(3)\n",
    "\n",
    "    alist = get_shuffle_list()\n",
    "    \n",
    "    for i, row in enumerate(table.rows):\n",
    "        for j, cell in enumerate(row.cells):\n",
    "            cell.text = str(alist[i * 5 + j])\n",
    "            paragraph=cell.paragraphs[0]\n",
    "            paragraph.alignment = WD_ALIGN_PARAGRAPH.CENTER\n",
    "            cell.vertical_alignment = WD_ALIGN_VERTICAL.CENTER\n",
    "            font = paragraph.runs[0].font\n",
    "            font.size= Pt(30)\n",
    "\n",
    "    document.add_page_break()"
   ]
  },
  {
   "cell_type": "code",
   "execution_count": 5,
   "id": "61efb56f",
   "metadata": {},
   "outputs": [
    {
     "name": "stderr",
     "output_type": "stream",
     "text": [
      "/usr/local/lib/python3.8/dist-packages/docx/styles/styles.py:139: UserWarning: style lookup by style_id is deprecated. Use style name as key instead.\n",
      "  return self._get_style_id_from_style(self[style_name], style_type)\n"
     ]
    }
   ],
   "source": [
    "for i in range(20):\n",
    "    add_page(document)"
   ]
  },
  {
   "cell_type": "code",
   "execution_count": 6,
   "id": "cb0b6944",
   "metadata": {},
   "outputs": [],
   "source": [
    "document.save('test.docx')"
   ]
  }
 ],
 "metadata": {
  "kernelspec": {
   "display_name": "Python 3 (ipykernel)",
   "language": "python",
   "name": "python3"
  },
  "language_info": {
   "codemirror_mode": {
    "name": "ipython",
    "version": 3
   },
   "file_extension": ".py",
   "mimetype": "text/x-python",
   "name": "python",
   "nbconvert_exporter": "python",
   "pygments_lexer": "ipython3",
   "version": "3.8.10"
  }
 },
 "nbformat": 4,
 "nbformat_minor": 5
}
